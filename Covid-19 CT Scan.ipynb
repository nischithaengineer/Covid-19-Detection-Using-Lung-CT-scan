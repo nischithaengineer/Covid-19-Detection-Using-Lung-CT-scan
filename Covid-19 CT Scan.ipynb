{
 "cells": [
  {
   "cell_type": "markdown",
   "id": "ff331814",
   "metadata": {},
   "source": [
    "# Import Libraries"
   ]
  },
  {
   "cell_type": "code",
   "execution_count": 1,
   "id": "ba025742",
   "metadata": {},
   "outputs": [
    {
     "name": "stdout",
     "output_type": "stream",
     "text": [
      "WARNING:tensorflow:From C:\\Users\\NISCHITHA\\AppData\\Local\\Temp\\ipykernel_17632\\1338967370.py:9: experimental_run_functions_eagerly (from tensorflow.python.eager.polymorphic_function.quarantine) is deprecated and will be removed in a future version.\n",
      "Instructions for updating:\n",
      "Use `tf.config.run_functions_eagerly` instead of the experimental version.\n"
     ]
    }
   ],
   "source": [
    "import os\n",
    "import numpy as np\n",
    "import pandas as pd\n",
    "import matplotlib.pyplot as plt\n",
    "import seaborn as sns\n",
    "import keras\n",
    "import tensorflow as tf\n",
    "from tensorflow.keras.preprocessing.image import load_img, ImageDataGenerator\n",
    "tf.config.experimental_run_functions_eagerly(True)"
   ]
  },
  {
   "cell_type": "markdown",
   "id": "b3287b5f",
   "metadata": {},
   "source": [
    "# Load and Preprocess the images"
   ]
  },
  {
   "cell_type": "code",
   "execution_count": 2,
   "id": "11741cc1",
   "metadata": {},
   "outputs": [],
   "source": [
    "img_dir = \"D:\\Covid-19 CT Scan Data\\COVID-19_Lung_CT_Scans\""
   ]
  },
  {
   "cell_type": "code",
   "execution_count": 3,
   "id": "d8ad83ba",
   "metadata": {},
   "outputs": [],
   "source": [
    "BATCH_SIZE = 128\n",
    "IMAGE_SIZE = 128\n",
    "input_shape = (128,128,1)"
   ]
  },
  {
   "cell_type": "code",
   "execution_count": 4,
   "id": "489a0ba1",
   "metadata": {},
   "outputs": [],
   "source": [
    "data_gen = ImageDataGenerator(rescale=1./255,\n",
    "                              shear_range=0.2,\n",
    "                              zoom_range=0.2,\n",
    "                              horizontal_flip=True,\n",
    "                              validation_split = 0.2)"
   ]
  },
  {
   "cell_type": "code",
   "execution_count": 5,
   "id": "a5a50990",
   "metadata": {},
   "outputs": [
    {
     "name": "stdout",
     "output_type": "stream",
     "text": [
      "Found 6752 images belonging to 2 classes.\n"
     ]
    }
   ],
   "source": [
    "train_gen = data_gen.flow_from_directory(img_dir,\n",
    "                                        target_size=(IMAGE_SIZE,IMAGE_SIZE),\n",
    "                                        batch_size = BATCH_SIZE,\n",
    "                                        color_mode= \"grayscale\",\n",
    "                                        shuffle=True,\n",
    "                                        class_mode = \"binary\",\n",
    "                                        subset = \"training\")"
   ]
  },
  {
   "cell_type": "code",
   "execution_count": 6,
   "id": "f6bf790a",
   "metadata": {},
   "outputs": [
    {
     "name": "stdout",
     "output_type": "stream",
     "text": [
      "Found 1687 images belonging to 2 classes.\n"
     ]
    }
   ],
   "source": [
    "val_gen = data_gen.flow_from_directory(img_dir,\n",
    "                                        target_size=(IMAGE_SIZE,IMAGE_SIZE),\n",
    "                                        batch_size = BATCH_SIZE,\n",
    "                                        color_mode= \"grayscale\",\n",
    "                                        shuffle=True,\n",
    "                                        class_mode = \"binary\",\n",
    "                                        subset = \"validation\")"
   ]
  },
  {
   "cell_type": "code",
   "execution_count": 7,
   "id": "b2f22236",
   "metadata": {},
   "outputs": [
    {
     "name": "stdout",
     "output_type": "stream",
     "text": [
      "['COVID-19', 'Non-COVID-19']\n"
     ]
    }
   ],
   "source": [
    "labels = train_gen.class_indices\n",
    "classes = list(labels.keys())\n",
    "\n",
    "print(classes)"
   ]
  },
  {
   "cell_type": "markdown",
   "id": "5675670a",
   "metadata": {},
   "source": [
    "# Model Training ,Compilation , Evaluvation "
   ]
  },
  {
   "cell_type": "code",
   "execution_count": 8,
   "id": "bcb49f45",
   "metadata": {},
   "outputs": [],
   "source": [
    "from keras.models import Sequential\n",
    "from keras.layers import Dense, Conv2D, MaxPooling2D ,BatchNormalization, Flatten, Dropout"
   ]
  },
  {
   "cell_type": "code",
   "execution_count": 9,
   "id": "f240f9aa",
   "metadata": {},
   "outputs": [],
   "source": [
    "model = Sequential()\n",
    "model.add(keras.layers.InputLayer(input_shape=input_shape))\n",
    "model.add(Conv2D(16,(3,3), activation=\"relu\"))\n",
    "model.add(MaxPooling2D((2,2)))\n",
    "model.add(Conv2D(16,(3,3), activation=\"relu\"))\n",
    "model.add(MaxPooling2D((2,2)))\n",
    "model.add(Conv2D(32,(3,3), activation=\"relu\"))\n",
    "model.add(MaxPooling2D((2,2)))\n",
    "model.add(Conv2D(32,(3,3), activation=\"relu\"))\n",
    "model.add(MaxPooling2D((2,2)))\n",
    "model.add(Flatten())\n",
    "model.add(Dense(256, activation=\"relu\"))\n",
    "#model.add(Dense(512, activation=\"relu\"))\n",
    "model.add(Dropout(0.2))\n",
    "#model.add(Dense(4, activation='softmax'))\n",
    "model.add(Dense(1, activation='sigmoid'))"
   ]
  },
  {
   "cell_type": "code",
   "execution_count": 10,
   "id": "e5156702",
   "metadata": {},
   "outputs": [
    {
     "name": "stdout",
     "output_type": "stream",
     "text": [
      "Model: \"sequential\"\n",
      "_________________________________________________________________\n",
      " Layer (type)                Output Shape              Param #   \n",
      "=================================================================\n",
      " conv2d (Conv2D)             (None, 126, 126, 16)      160       \n",
      "                                                                 \n",
      " max_pooling2d (MaxPooling2D  (None, 63, 63, 16)       0         \n",
      " )                                                               \n",
      "                                                                 \n",
      " conv2d_1 (Conv2D)           (None, 61, 61, 16)        2320      \n",
      "                                                                 \n",
      " max_pooling2d_1 (MaxPooling  (None, 30, 30, 16)       0         \n",
      " 2D)                                                             \n",
      "                                                                 \n",
      " conv2d_2 (Conv2D)           (None, 28, 28, 32)        4640      \n",
      "                                                                 \n",
      " max_pooling2d_2 (MaxPooling  (None, 14, 14, 32)       0         \n",
      " 2D)                                                             \n",
      "                                                                 \n",
      " conv2d_3 (Conv2D)           (None, 12, 12, 32)        9248      \n",
      "                                                                 \n",
      " max_pooling2d_3 (MaxPooling  (None, 6, 6, 32)         0         \n",
      " 2D)                                                             \n",
      "                                                                 \n",
      " flatten (Flatten)           (None, 1152)              0         \n",
      "                                                                 \n",
      " dense (Dense)               (None, 256)               295168    \n",
      "                                                                 \n",
      " dropout (Dropout)           (None, 256)               0         \n",
      "                                                                 \n",
      " dense_1 (Dense)             (None, 1)                 257       \n",
      "                                                                 \n",
      "=================================================================\n",
      "Total params: 311,793\n",
      "Trainable params: 311,793\n",
      "Non-trainable params: 0\n",
      "_________________________________________________________________\n"
     ]
    }
   ],
   "source": [
    "model.compile(optimizer='adam', loss='binary_crossentropy',metrics=['accuracy'])\n",
    "model.summary()"
   ]
  },
  {
   "cell_type": "code",
   "execution_count": 11,
   "id": "d69f0f57",
   "metadata": {},
   "outputs": [
    {
     "data": {
      "text/plain": [
       "(53, 14)"
      ]
     },
     "execution_count": 11,
     "metadata": {},
     "output_type": "execute_result"
    }
   ],
   "source": [
    "len(train_gen),len(val_gen)"
   ]
  },
  {
   "cell_type": "code",
   "execution_count": 12,
   "id": "0bcea714",
   "metadata": {},
   "outputs": [
    {
     "name": "stderr",
     "output_type": "stream",
     "text": [
      "C:\\Users\\NISCHITHA\\AppData\\Roaming\\Python\\Python310\\site-packages\\tensorflow\\python\\data\\ops\\structured_function.py:254: UserWarning: Even though the `tf.config.experimental_run_functions_eagerly` option is set, this option does not apply to tf.data functions. To force eager execution of tf.data functions, please use `tf.data.experimental.enable_debug_mode()`.\n",
      "  warnings.warn(\n"
     ]
    },
    {
     "name": "stdout",
     "output_type": "stream",
     "text": [
      "Epoch 1/10\n",
      "53/53 [==============================] - 228s 4s/step - loss: 0.3474 - accuracy: 0.8864 - val_loss: 0.3727 - val_accuracy: 0.8886\n",
      "Epoch 2/10\n",
      "53/53 [==============================] - 101s 2s/step - loss: 0.2674 - accuracy: 0.9048 - val_loss: 0.3050 - val_accuracy: 0.8915\n",
      "Epoch 3/10\n",
      "53/53 [==============================] - 95s 2s/step - loss: 0.1999 - accuracy: 0.9265 - val_loss: 0.3227 - val_accuracy: 0.8856\n",
      "Epoch 4/10\n",
      "53/53 [==============================] - 93s 2s/step - loss: 0.1827 - accuracy: 0.9359 - val_loss: 0.3025 - val_accuracy: 0.9028\n",
      "Epoch 5/10\n",
      "53/53 [==============================] - 100s 2s/step - loss: 0.1392 - accuracy: 0.9505 - val_loss: 0.2825 - val_accuracy: 0.8957\n",
      "Epoch 6/10\n",
      "53/53 [==============================] - 100s 2s/step - loss: 0.1211 - accuracy: 0.9556 - val_loss: 0.2515 - val_accuracy: 0.9229\n",
      "Epoch 7/10\n",
      "53/53 [==============================] - 102s 2s/step - loss: 0.0950 - accuracy: 0.9656 - val_loss: 0.2766 - val_accuracy: 0.9188\n",
      "Epoch 8/10\n",
      "53/53 [==============================] - 102s 2s/step - loss: 0.0897 - accuracy: 0.9686 - val_loss: 0.2804 - val_accuracy: 0.9324\n",
      "Epoch 9/10\n",
      "53/53 [==============================] - 102s 2s/step - loss: 0.0886 - accuracy: 0.9693 - val_loss: 0.2361 - val_accuracy: 0.9336\n",
      "Epoch 10/10\n",
      "53/53 [==============================] - 103s 2s/step - loss: 0.0792 - accuracy: 0.9730 - val_loss: 0.2027 - val_accuracy: 0.9431\n"
     ]
    }
   ],
   "source": [
    "with tf.device('/device:GPU:0'):\n",
    "    history = model.fit(train_gen,verbose=1,epochs=10,validation_data=val_gen,steps_per_epoch = len(train_gen),validation_steps = len(val_gen))"
   ]
  },
  {
   "cell_type": "code",
   "execution_count": 13,
   "id": "a0b7a550",
   "metadata": {},
   "outputs": [
    {
     "name": "stdout",
     "output_type": "stream",
     "text": [
      "14/14 [==============================] - 13s 893ms/step - loss: 0.2094 - accuracy: 0.9425\n",
      "Validation Accuracy: 94.25%\n"
     ]
    }
   ],
   "source": [
    "val_loss, val_accuracy = model.evaluate(val_gen)\n",
    "print(f'Validation Accuracy: {val_accuracy * 100:.2f}%')"
   ]
  },
  {
   "cell_type": "code",
   "execution_count": 14,
   "id": "c0c671c6",
   "metadata": {},
   "outputs": [
    {
     "data": {
      "text/plain": [
       "<Axes: >"
      ]
     },
     "execution_count": 14,
     "metadata": {},
     "output_type": "execute_result"
    },
    {
     "data": {
      "image/png": "[encoded data removed]",
      "text/plain": [
       "<Figure size 640x480 with 1 Axes>"
      ]
     },
     "metadata": {},
     "output_type": "display_data"
    }
   ],
   "source": [
    "pd.DataFrame(history.history).plot()"
   ]
  },
  {
   "cell_type": "code",
   "execution_count": 15,
   "id": "c96d826d",
   "metadata": {},
   "outputs": [],
   "source": [
    "model.save('CovidTest.h5')"
   ]
  },
  {
   "cell_type": "markdown",
   "id": "0d92d50b",
   "metadata": {},
   "source": [
    "# Testing On new Data(lung CT Image)"
   ]
  },
  {
   "cell_type": "code",
   "execution_count": 16,
   "id": "833dbd48",
   "metadata": {},
   "outputs": [
    {
     "name": "stderr",
     "output_type": "stream",
     "text": [
      "C:\\Users\\NISCHITHA\\AppData\\Local\\Temp\\ipykernel_17632\\2029824107.py:13: DeprecationWarning: ANTIALIAS is deprecated and will be removed in Pillow 10 (2023-07-01). Use LANCZOS or Resampling.LANCZOS instead.\n",
      "  image = ImageOps.fit(image, size, Image.ANTIALIAS)\n"
     ]
    },
    {
     "data": {
      "image/png": "[encoded data removed]",
      "text/plain": [
       "<PIL.Image.Image image mode=L size=128x128>"
      ]
     },
     "metadata": {},
     "output_type": "display_data"
    },
    {
     "name": "stdout",
     "output_type": "stream",
     "text": [
      "1/1 [==============================] - 0s 49ms/step\n",
      "No COVID detected\n"
     ]
    },
    {
     "name": "stderr",
     "output_type": "stream",
     "text": [
      "C:\\Users\\NISCHITHA\\AppData\\Roaming\\Python\\Python310\\site-packages\\tensorflow\\python\\data\\ops\\structured_function.py:254: UserWarning: Even though the `tf.config.experimental_run_functions_eagerly` option is set, this option does not apply to tf.data functions. To force eager execution of tf.data functions, please use `tf.data.experimental.enable_debug_mode()`.\n",
      "  warnings.warn(\n"
     ]
    }
   ],
   "source": [
    "from matplotlib.pyplot import imshow\n",
    "from PIL import Image, ImageOps\n",
    "\n",
    "\n",
    "data = np.ndarray(shape=(1,128, 128, 1), dtype=np.float32)\n",
    "image = Image.open(f\"D:/Covid-19 CT Scan Data/COVID-19_Lung_CT_Scans/Non-COVID-19/Non-COVID-19_001.png\")\n",
    "size = (128, 128)\n",
    "image = ImageOps.grayscale(image)\n",
    "image = ImageOps.fit(image, size, Image.ANTIALIAS)\n",
    "image_array = np.asarray(image)\n",
    "display(image)\n",
    "\n",
    "data = image_array.reshape((-1,128,128,1))/255\n",
    "\n",
    "prediction = np.round(model.predict(data)[0][0])\n",
    "if prediction == 0:\n",
    "    print('COVID detected')\n",
    "else:\n",
    "    print('No COVID detected')"
   ]
  }
 ],
 "metadata": {
  "kernelspec": {
   "display_name": "Python 3 (ipykernel)",
   "language": "python",
   "name": "python3"
  },
  "language_info": {
   "codemirror_mode": {
    "name": "ipython",
    "version": 3
   },
   "file_extension": ".py",
   "mimetype": "text/x-python",
   "name": "python",
   "nbconvert_exporter": "python",
   "pygments_lexer": "ipython3",
   "version": "3.10.9"
  }
 },
 "nbformat": 4,
 "nbformat_minor": 5
}
